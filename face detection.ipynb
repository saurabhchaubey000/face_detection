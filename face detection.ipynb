{
 "cells": [
  {
   "cell_type": "code",
   "execution_count": null,
   "metadata": {},
   "outputs": [
    {
     "name": "stdout",
     "output_type": "stream",
     "text": [
      "<class 'numpy.ndarray'>\n",
      "[[253   5  56  56]\n",
      " [371 154  49  49]\n",
      " [486 142  58  58]\n",
      " [595 155  76  76]\n",
      " [305 265  57  57]\n",
      " [732 171  52  52]\n",
      " [517 276  58  58]\n",
      " [ 77 167  58  58]\n",
      " [659 177  58  58]\n",
      " [428 375  59  59]\n",
      " [648 378  58  58]\n",
      " [348 399  53  53]\n",
      " [561  38  51  51]\n",
      " [457  40  50  50]\n",
      " [194 280  64  64]\n",
      " [612 207  54  54]\n",
      " [218 454  53  53]\n",
      " [ 50 328  53  53]]\n"
     ]
    }
   ],
   "source": [
    "import cv2,numpy\n",
    "face_cascade =cv2.CascadeClassifier(r\"C:\\Users\\OM\\Desktop\\data science project\\face detection\\haarcascade_frontalface_default.xml\")\n",
    "img=cv2.imread(r\"C:\\Users\\OM\\Desktop\\data science project\\face detection\\11.jpg\")\n",
    "gray_img =cv2.cvtColor(img, cv2.COLOR_BGR2GRAY)\n",
    "faces=face_cascade.detectMultiScale(gray_img,scaleFactor=1.3,minNeighbors=5)\n",
    "\n",
    "print(type(faces))\n",
    "print(faces)\n",
    "\n",
    "for x,y,w,h in faces:\n",
    "    img=cv2.rectangle(img,(x,y),(x+w,y+h),(0,255,0), 3)\n",
    "    cv2.imshow(\"face detection\", img)\n",
    "    cv2.waitKey(0)\n",
    "    cv2.destroyAllWindows()"
   ]
  },
  {
   "cell_type": "code",
   "execution_count": null,
   "metadata": {},
   "outputs": [],
   "source": []
  },
  {
   "cell_type": "code",
   "execution_count": null,
   "metadata": {},
   "outputs": [],
   "source": []
  }
 ],
 "metadata": {
  "kernelspec": {
   "display_name": "Python 3",
   "language": "python",
   "name": "python3"
  },
  "language_info": {
   "codemirror_mode": {
    "name": "ipython",
    "version": 3
   },
   "file_extension": ".py",
   "mimetype": "text/x-python",
   "name": "python",
   "nbconvert_exporter": "python",
   "pygments_lexer": "ipython3",
   "version": "3.7.3"
  }
 },
 "nbformat": 4,
 "nbformat_minor": 2
}
